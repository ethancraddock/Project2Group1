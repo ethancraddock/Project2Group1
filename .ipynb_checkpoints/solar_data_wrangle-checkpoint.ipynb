{
 "cells": [
  {
   "cell_type": "code",
   "execution_count": 1,
   "metadata": {
    "collapsed": true
   },
   "outputs": [],
   "source": [
    "# dependencies\n",
    "import pandas as pd\n",
    "import numpy as np\n",
    "\n",
    "import requests as req\n",
    "import json"
   ]
  },
  {
   "cell_type": "code",
   "execution_count": 2,
   "metadata": {},
   "outputs": [
    {
     "data": {
      "text/html": [
       "<div>\n",
       "<style>\n",
       "    .dataframe thead tr:only-child th {\n",
       "        text-align: right;\n",
       "    }\n",
       "\n",
       "    .dataframe thead th {\n",
       "        text-align: left;\n",
       "    }\n",
       "\n",
       "    .dataframe tbody tr th {\n",
       "        vertical-align: top;\n",
       "    }\n",
       "</style>\n",
       "<table border=\"1\" class=\"dataframe\">\n",
       "  <thead>\n",
       "    <tr style=\"text-align: right;\">\n",
       "      <th></th>\n",
       "      <th>State</th>\n",
       "      <th>Range</th>\n",
       "      <th>Rate</th>\n",
       "    </tr>\n",
       "  </thead>\n",
       "  <tbody>\n",
       "    <tr>\n",
       "      <th>0</th>\n",
       "      <td>AK</td>\n",
       "      <td>9.5 to 19.0</td>\n",
       "      <td>14.9</td>\n",
       "    </tr>\n",
       "    <tr>\n",
       "      <th>1</th>\n",
       "      <td>AL</td>\n",
       "      <td>9.5 to 19.0</td>\n",
       "      <td>19.0</td>\n",
       "    </tr>\n",
       "    <tr>\n",
       "      <th>2</th>\n",
       "      <td>AR</td>\n",
       "      <td>19.1 to 21.9</td>\n",
       "      <td>20.0</td>\n",
       "    </tr>\n",
       "    <tr>\n",
       "      <th>3</th>\n",
       "      <td>AZ</td>\n",
       "      <td>19.1 to 21.9</td>\n",
       "      <td>20.6</td>\n",
       "    </tr>\n",
       "    <tr>\n",
       "      <th>4</th>\n",
       "      <td>CA</td>\n",
       "      <td>23.0 to 25.8</td>\n",
       "      <td>23.0</td>\n",
       "    </tr>\n",
       "  </tbody>\n",
       "</table>\n",
       "</div>"
      ],
      "text/plain": [
       "  State         Range  Rate\n",
       "0    AK   9.5 to 19.0  14.9\n",
       "1    AL   9.5 to 19.0  19.0\n",
       "2    AR  19.1 to 21.9  20.0\n",
       "3    AZ  19.1 to 21.9  20.6\n",
       "4    CA  23.0 to 25.8  23.0"
      ]
     },
     "execution_count": 2,
     "metadata": {},
     "output_type": "execute_result"
    }
   ],
   "source": [
    "# read cancercsv into dataframe\n",
    "cancer_df = pd.read_csv(\"csv/skin_map_incidence.csv\")\n",
    "cancer_df.head()"
   ]
  },
  {
   "cell_type": "code",
   "execution_count": 3,
   "metadata": {},
   "outputs": [
    {
     "data": {
      "text/html": [
       "<div>\n",
       "<style>\n",
       "    .dataframe thead tr:only-child th {\n",
       "        text-align: right;\n",
       "    }\n",
       "\n",
       "    .dataframe thead th {\n",
       "        text-align: left;\n",
       "    }\n",
       "\n",
       "    .dataframe tbody tr th {\n",
       "        vertical-align: top;\n",
       "    }\n",
       "</style>\n",
       "<table border=\"1\" class=\"dataframe\">\n",
       "  <thead>\n",
       "    <tr style=\"text-align: right;\">\n",
       "      <th></th>\n",
       "      <th>state</th>\n",
       "      <th>date_installed</th>\n",
       "      <th>incentive_prog_names</th>\n",
       "      <th>type</th>\n",
       "      <th>size_kw</th>\n",
       "      <th>appraised</th>\n",
       "      <th>zipcode</th>\n",
       "      <th>install_type</th>\n",
       "      <th>installer</th>\n",
       "      <th>cost_per_watt</th>\n",
       "      <th>...</th>\n",
       "      <th>effic_1</th>\n",
       "      <th>cust_county</th>\n",
       "      <th>tracking</th>\n",
       "      <th>inv_model_clean</th>\n",
       "      <th>mod_cost_real</th>\n",
       "      <th>inv_cost_real</th>\n",
       "      <th>bos_powerclerk_real</th>\n",
       "      <th>permitting_real</th>\n",
       "      <th>3rdparty</th>\n",
       "      <th>Filters=maxdate=1420045199&amp;mindate=1388552400</th>\n",
       "    </tr>\n",
       "  </thead>\n",
       "  <tbody>\n",
       "    <tr>\n",
       "      <th>0</th>\n",
       "      <td>CO</td>\n",
       "      <td>01/01/2014</td>\n",
       "      <td>NaN</td>\n",
       "      <td>uir</td>\n",
       "      <td>13.58</td>\n",
       "      <td>NaN</td>\n",
       "      <td>80401</td>\n",
       "      <td>Government</td>\n",
       "      <td>NaN</td>\n",
       "      <td>1.62</td>\n",
       "      <td>...</td>\n",
       "      <td>NaN</td>\n",
       "      <td>NaN</td>\n",
       "      <td>NaN</td>\n",
       "      <td>NaN</td>\n",
       "      <td>NaN</td>\n",
       "      <td>NaN</td>\n",
       "      <td>NaN</td>\n",
       "      <td>NaN</td>\n",
       "      <td>NaN</td>\n",
       "      <td>NaN</td>\n",
       "    </tr>\n",
       "    <tr>\n",
       "      <th>1</th>\n",
       "      <td>NY</td>\n",
       "      <td>01/01/2014</td>\n",
       "      <td>NaN</td>\n",
       "      <td>uir</td>\n",
       "      <td>306.60</td>\n",
       "      <td>NaN</td>\n",
       "      <td>11215</td>\n",
       "      <td>commercial</td>\n",
       "      <td>NaN</td>\n",
       "      <td>NaN</td>\n",
       "      <td>...</td>\n",
       "      <td>NaN</td>\n",
       "      <td>NaN</td>\n",
       "      <td>NaN</td>\n",
       "      <td>NaN</td>\n",
       "      <td>NaN</td>\n",
       "      <td>NaN</td>\n",
       "      <td>NaN</td>\n",
       "      <td>NaN</td>\n",
       "      <td>NaN</td>\n",
       "      <td>NaN</td>\n",
       "    </tr>\n",
       "  </tbody>\n",
       "</table>\n",
       "<p>2 rows × 82 columns</p>\n",
       "</div>"
      ],
      "text/plain": [
       "  state date_installed incentive_prog_names type  size_kw appraised  zipcode  \\\n",
       "0    CO     01/01/2014                  NaN  uir    13.58       NaN    80401   \n",
       "1    NY     01/01/2014                  NaN  uir   306.60       NaN    11215   \n",
       "\n",
       "  install_type installer  cost_per_watt  \\\n",
       "0   Government       NaN           1.62   \n",
       "1   commercial       NaN            NaN   \n",
       "\n",
       "                       ...                       effic_1  cust_county  \\\n",
       "0                      ...                           NaN          NaN   \n",
       "1                      ...                           NaN          NaN   \n",
       "\n",
       "  tracking inv_model_clean mod_cost_real inv_cost_real bos_powerclerk_real  \\\n",
       "0      NaN             NaN           NaN           NaN                 NaN   \n",
       "1      NaN             NaN           NaN           NaN                 NaN   \n",
       "\n",
       "  permitting_real  3rdparty  Filters=maxdate=1420045199&mindate=1388552400  \n",
       "0             NaN       NaN                                            NaN  \n",
       "1             NaN       NaN                                            NaN  \n",
       "\n",
       "[2 rows x 82 columns]"
      ]
     },
     "execution_count": 3,
     "metadata": {},
     "output_type": "execute_result"
    }
   ],
   "source": [
    "# read solar install csv into dataframe\n",
    "solar_df = pd.read_csv(\"csv/openpv-export-201803141836.csv\")\n",
    "solar_df.head(2)"
   ]
  },
  {
   "cell_type": "code",
   "execution_count": 18,
   "metadata": {},
   "outputs": [
    {
     "data": {
      "text/html": [
       "<div>\n",
       "<style>\n",
       "    .dataframe thead tr:only-child th {\n",
       "        text-align: right;\n",
       "    }\n",
       "\n",
       "    .dataframe thead th {\n",
       "        text-align: left;\n",
       "    }\n",
       "\n",
       "    .dataframe tbody tr th {\n",
       "        vertical-align: top;\n",
       "    }\n",
       "</style>\n",
       "<table border=\"1\" class=\"dataframe\">\n",
       "  <thead>\n",
       "    <tr style=\"text-align: right;\">\n",
       "      <th></th>\n",
       "      <th>State</th>\n",
       "      <th>Install_Data</th>\n",
       "      <th>Size_kw</th>\n",
       "      <th>Zip</th>\n",
       "      <th>Cost_per_Watt</th>\n",
       "    </tr>\n",
       "  </thead>\n",
       "  <tbody>\n",
       "    <tr>\n",
       "      <th>0</th>\n",
       "      <td>CO</td>\n",
       "      <td>01/01/2014</td>\n",
       "      <td>13.58</td>\n",
       "      <td>80401</td>\n",
       "      <td>1.62</td>\n",
       "    </tr>\n",
       "    <tr>\n",
       "      <th>1</th>\n",
       "      <td>NY</td>\n",
       "      <td>01/01/2014</td>\n",
       "      <td>306.60</td>\n",
       "      <td>11215</td>\n",
       "      <td>NaN</td>\n",
       "    </tr>\n",
       "  </tbody>\n",
       "</table>\n",
       "</div>"
      ],
      "text/plain": [
       "  State Install_Data  Size_kw    Zip  Cost_per_Watt\n",
       "0    CO   01/01/2014    13.58  80401           1.62\n",
       "1    NY   01/01/2014   306.60  11215            NaN"
      ]
     },
     "execution_count": 18,
     "metadata": {},
     "output_type": "execute_result"
    }
   ],
   "source": [
    "solar_targs_df = solar_df.iloc[:,[0, 1, 4, 6, 9]]\n",
    "solar_targs_df.columns = [\"State\", \"Install_Data\", \"Size_kw\", \"Zip\", \"Cost_per_Watt\"]\n",
    "solar_targs_df.head(2)"
   ]
  },
  {
   "cell_type": "code",
   "execution_count": 5,
   "metadata": {},
   "outputs": [
    {
     "data": {
      "text/plain": [
       "state             170862\n",
       "date_installed    170862\n",
       "size_kw           170862\n",
       "zipcode           170862\n",
       "cost_per_watt      73212\n",
       "dtype: int64"
      ]
     },
     "execution_count": 5,
     "metadata": {},
     "output_type": "execute_result"
    }
   ],
   "source": [
    "# check to see how deeply the nans permiate our data\n",
    "solar_targs_df.count()"
   ]
  },
  {
   "cell_type": "code",
   "execution_count": 27,
   "metadata": {},
   "outputs": [],
   "source": [
    "# read eia cost data into dataframe\n",
    "eia_df = pd.read_csv(\"csv/eia_2014_scrape.csv\")\n",
    "eia_df = eia_df.iloc[:,[1,2]]\n",
    "eia_df[\"State\"] = [\"AL\",\"AK\",\"AZ\",\"AR\",\"CA\",\"CO\",\"CT\",\"DE\",\"DC\",\"FL\",\"GA\",\"HI\",\"ID\",\"IL\",\"IN\",\"IA\",\"KS\",\n",
    "                   \"KY\",\"LA\",\"ME\",\"MD\",\"MA\",\"MI\",\"MN\",\"MS\",\"MO\",\"MT\",\"NE\",\"NV\",\"NH\",\"NJ\",\"NM\",\"NY\",\"NC\",\n",
    "                   \"ND\",\"OH\",\"OK\",\"OR\",\"PA\",\"RI\",\"SC\",\"SD\",\"TN\",\"TX\",\"UT\",\"VT\",\"VA\",\"WA\",\"WV\",\"WI\",\"WY\"]\n",
    "#eia_df"
   ]
  },
  {
   "cell_type": "code",
   "execution_count": 28,
   "metadata": {},
   "outputs": [],
   "source": [
    "# merge cancer and electric cost dfs\n",
    "cande_df = pd.merge(cancer_df, eia_df, on=\"State\", how=\"outer\")\n",
    "#cande_df"
   ]
  },
  {
   "cell_type": "code",
   "execution_count": 37,
   "metadata": {},
   "outputs": [],
   "source": [
    "# merge solar and cande dfs\n",
    "data_df = pd.merge(cande_df, solar_targs_df, on=\"State\", how=\"outer\")\n",
    "\n",
    "# reset index to serve as id column\n",
    "data_df = data_df.reset_index()\n",
    "#data_df.head()\n",
    "\n",
    "# rename columns and reorder columns\n",
    "data_df.columns = [\"Id\", \"Abbr\", \"Range\", \"Cancer_Rate\", \"State\", \"Electric_Cost (cents/kWh)\", \"Install_Date\",\n",
    "                  \"Size_kW\", \"Zipcode\", \"Cost_per_Watt\"]\n",
    "data_df = data_df[[\"Id\", \"State\", \"Abbr\", \"Electric_Cost (cents/kWh)\", \"Install_Date\", \"Zipcode\", \"Size_kW\",\n",
    "                 \"Cost_per_Watt\", \"Range\", \"Cancer_Rate\"]]\n",
    "#data_df.head(10)\n",
    "\n",
    "# push clean df to csv\n",
    "data_df.to_csv('csv/clean_data.csv')"
   ]
  },
  {
   "cell_type": "code",
   "execution_count": null,
   "metadata": {
    "collapsed": true
   },
   "outputs": [],
   "source": []
  }
 ],
 "metadata": {
  "kernelspec": {
   "display_name": "Python [conda env:PythonData]",
   "language": "python",
   "name": "conda-env-PythonData-py"
  },
  "language_info": {
   "codemirror_mode": {
    "name": "ipython",
    "version": 3
   },
   "file_extension": ".py",
   "mimetype": "text/x-python",
   "name": "python",
   "nbconvert_exporter": "python",
   "pygments_lexer": "ipython3",
   "version": "3.6.3"
  }
 },
 "nbformat": 4,
 "nbformat_minor": 2
}
